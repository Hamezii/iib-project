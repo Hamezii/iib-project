{
 "cells": [
  {
   "cell_type": "code",
   "execution_count": 35,
   "metadata": {},
   "outputs": [],
   "source": [
    "import torch\n",
    "from torch import nn\n",
    "import matplotlib.pyplot as plt\n",
    "from extended_stp import *\n",
    "import train_parity\n",
    "from data_setup import *\n",
    "from plotting import *"
   ]
  },
  {
   "cell_type": "code",
   "execution_count": 36,
   "metadata": {},
   "outputs": [],
   "source": [
    "def test_Softplus():\n",
    "    for alpha in (1.5,):#(0.5, 1, 1.5, 2, 2.5, 5):\n",
    "        m = RecurrentLayer(alpha=alpha)\n",
    "        times = torch.linspace(-10, 30, 100)\n",
    "        x = m.compute_R(times)\n",
    "        #print(x)\n",
    "        plt.plot(times, x)\n",
    "        print(m.compute_R(torch.Tensor([-1, 0, 1])))\n"
   ]
  },
  {
   "cell_type": "code",
   "execution_count": 37,
   "metadata": {},
   "outputs": [],
   "source": [
    "def test_parametrize():\n",
    "    import torch.nn.utils.parametrize as parametrize\n",
    "    class M(nn.Module):\n",
    "        def __init__(self):\n",
    "            super().__init__()\n",
    "            self.x = nn.Parameter(torch.tensor([[0.0, 1.0, 2.0], [3.0, 4.0, 5.0]]))\n",
    "\n",
    "    m = M()\n",
    "    parametrize.register_parametrization(m, \"x\", nn.Softplus(beta=1/0.1, threshold=1))\n",
    "    #m.parametrizations.x.original = nn.Parameter(torch.tensor([[0.0, 1.0, 2.0], [3.0, 4.0, 5.0]]))\n",
    "    print(m.parametrizations.x.original)\n",
    "    print(m.x)\n",
    "    nn.init.kaiming_normal_(m.parametrizations.x.original, nonlinearity=\"relu\")\n",
    "    print(m.parametrizations.x.original)\n",
    "    print(m.x)"
   ]
  },
  {
   "cell_type": "code",
   "execution_count": null,
   "metadata": {},
   "outputs": [
    {
     "name": "stdout",
     "output_type": "stream",
     "text": [
      "[tensor([[1., 0., 1., 0.],\n",
      "        [0., 0., 0., 1.]], device='cuda:0'), tensor([1., 0.], device='cuda:0')]\n"
     ]
    }
   ],
   "source": [
    "# Testing generate_one_hot_impulses: works!\n",
    "def test_generate_one_hot_impulses():\n",
    "    batch_size = 2\n",
    "    iterable = train_parity.ParityDataGenerator(batch_size, 8)\n",
    "    dataloader = get_dataloader_from_iterable(iterable)\n",
    "\n",
    "    for i, (sequence, target) in enumerate(dataloader):\n",
    "        if i == 3:\n",
    "            break\n",
    "        print(i)\n",
    "        input_data = generate_one_hot_impulses(sequence, 2, 1e-3)\n",
    "        for b in range(batch_size):\n",
    "            print(sequence[b])\n",
    "            plot_impulses(input_data, 1e-3, b)"
   ]
  },
  {
   "cell_type": "code",
   "execution_count": null,
   "metadata": {},
   "outputs": [
    {
     "name": "stdout",
     "output_type": "stream",
     "text": [
      "tensor([[-8.5117e-02, -4.8020e-01, -3.2854e-02],\n",
      "        [ 1.5315e-04, -9.5151e-01,  8.8232e-01]])\n",
      "tensor(0.1118)\n"
     ]
    }
   ],
   "source": [
    "# Kaiming/He initialisation\n",
    "print(torch.randn(2, 3))\n",
    "x = torch.zeros(100, 100)\n",
    "nn.init.kaiming_normal_(x, nonlinearity=\"relu\")\n",
    "print(x.abs().mean())"
   ]
  },
  {
   "cell_type": "code",
   "execution_count": 1,
   "metadata": {},
   "outputs": [],
   "source": [
    "# Padding test\n",
    "import torch\n",
    "import torch.nn.functional as F\n",
    "x = torch.ones(10, 10)\n",
    "y = F.pad(torch.ones(10, 4), (0, 6), \"constant\", 0)\n",
    "# print(x)\n",
    "# print(y)\n",
    "# print(x + y)"
   ]
  }
 ],
 "metadata": {
  "kernelspec": {
   "display_name": "Python 3",
   "language": "python",
   "name": "python3"
  },
  "language_info": {
   "codemirror_mode": {
    "name": "ipython",
    "version": 3
   },
   "file_extension": ".py",
   "mimetype": "text/x-python",
   "name": "python",
   "nbconvert_exporter": "python",
   "pygments_lexer": "ipython3",
   "version": "3.12.2"
  }
 },
 "nbformat": 4,
 "nbformat_minor": 2
}
